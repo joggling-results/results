{
 "cells": [
  {
   "cell_type": "markdown",
   "id": "4b0691cb",
   "metadata": {},
   "source": [
    "# 3b Marathon Record Progression Plot"
   ]
  },
  {
   "cell_type": "code",
   "execution_count": 75,
   "id": "1d0aa42a",
   "metadata": {},
   "outputs": [],
   "source": [
    "import pandas as pd\n",
    "import plotly.graph_objects as go\n",
    "from datetime import date"
   ]
  },
  {
   "cell_type": "code",
   "execution_count": 53,
   "id": "5a4d5c54",
   "metadata": {},
   "outputs": [
    {
     "data": {
      "text/html": [
       "<div>\n",
       "<style scoped>\n",
       "    .dataframe tbody tr th:only-of-type {\n",
       "        vertical-align: middle;\n",
       "    }\n",
       "\n",
       "    .dataframe tbody tr th {\n",
       "        vertical-align: top;\n",
       "    }\n",
       "\n",
       "    .dataframe thead th {\n",
       "        text-align: right;\n",
       "    }\n",
       "</style>\n",
       "<table border=\"1\" class=\"dataframe\">\n",
       "  <thead>\n",
       "    <tr style=\"text-align: right;\">\n",
       "      <th></th>\n",
       "      <th>Date</th>\n",
       "      <th>Year</th>\n",
       "      <th>Distance</th>\n",
       "      <th>Event / Venue</th>\n",
       "      <th>Joggler</th>\n",
       "      <th>Gender</th>\n",
       "      <th>Nationality</th>\n",
       "      <th>Finish Time</th>\n",
       "      <th>Drops</th>\n",
       "      <th>Notes / Result Links</th>\n",
       "    </tr>\n",
       "  </thead>\n",
       "  <tbody>\n",
       "    <tr>\n",
       "      <th>0</th>\n",
       "      <td>1981-12-09</td>\n",
       "      <td>1981</td>\n",
       "      <td>3b Marathon</td>\n",
       "      <td>Montreal International Marathon</td>\n",
       "      <td>Michel Lauzière</td>\n",
       "      <td>M</td>\n",
       "      <td>CAN</td>\n",
       "      <td>04:05:00</td>\n",
       "      <td>1</td>\n",
       "      <td>First Joggling Marathon</td>\n",
       "    </tr>\n",
       "    <tr>\n",
       "      <th>1</th>\n",
       "      <td>1982-05-30</td>\n",
       "      <td>1982</td>\n",
       "      <td>3b Marathon</td>\n",
       "      <td>Montreal International Marathon</td>\n",
       "      <td>Michel Lauzière</td>\n",
       "      <td>M</td>\n",
       "      <td>CAN</td>\n",
       "      <td>03:57:00</td>\n",
       "      <td>?</td>\n",
       "      <td>NaN</td>\n",
       "    </tr>\n",
       "    <tr>\n",
       "      <th>2</th>\n",
       "      <td>1988-01-01</td>\n",
       "      <td>1988</td>\n",
       "      <td>3b Marathon</td>\n",
       "      <td>??</td>\n",
       "      <td>Albert Lucas</td>\n",
       "      <td>M</td>\n",
       "      <td>USA</td>\n",
       "      <td>03:29:04</td>\n",
       "      <td>?</td>\n",
       "      <td>NaN</td>\n",
       "    </tr>\n",
       "    <tr>\n",
       "      <th>3</th>\n",
       "      <td>1988-04-07</td>\n",
       "      <td>1988</td>\n",
       "      <td>3b Marathon</td>\n",
       "      <td>Salmon River Idaho</td>\n",
       "      <td>Ashrita Furman</td>\n",
       "      <td>M</td>\n",
       "      <td>USA</td>\n",
       "      <td>03:22:32</td>\n",
       "      <td>?</td>\n",
       "      <td>NaN</td>\n",
       "    </tr>\n",
       "    <tr>\n",
       "      <th>4</th>\n",
       "      <td>2000-10-08</td>\n",
       "      <td>2000</td>\n",
       "      <td>3b Marathon</td>\n",
       "      <td>Karlsruhe, Germany</td>\n",
       "      <td>Paul-Erik Lillholm</td>\n",
       "      <td>M</td>\n",
       "      <td>NOR</td>\n",
       "      <td>03:20:49</td>\n",
       "      <td>?</td>\n",
       "      <td>NaN</td>\n",
       "    </tr>\n",
       "    <tr>\n",
       "      <th>5</th>\n",
       "      <td>2005-09-25</td>\n",
       "      <td>2005</td>\n",
       "      <td>3b Marathon</td>\n",
       "      <td>Toronto Waterfront Marathon</td>\n",
       "      <td>Michal Kapral</td>\n",
       "      <td>M</td>\n",
       "      <td>CAN</td>\n",
       "      <td>03:07:46</td>\n",
       "      <td>20</td>\n",
       "      <td>NaN</td>\n",
       "    </tr>\n",
       "    <tr>\n",
       "      <th>6</th>\n",
       "      <td>2005-11-20</td>\n",
       "      <td>2005</td>\n",
       "      <td>3b Marathon</td>\n",
       "      <td>Philadelphia Marathon</td>\n",
       "      <td>Zach Warren</td>\n",
       "      <td>M</td>\n",
       "      <td>USA</td>\n",
       "      <td>03:07:05</td>\n",
       "      <td>?</td>\n",
       "      <td>First Sub 3</td>\n",
       "    </tr>\n",
       "    <tr>\n",
       "      <th>7</th>\n",
       "      <td>2006-04-17</td>\n",
       "      <td>2006</td>\n",
       "      <td>3b Marathon</td>\n",
       "      <td>Boston Marathon</td>\n",
       "      <td>Zach Warren</td>\n",
       "      <td>M</td>\n",
       "      <td>USA</td>\n",
       "      <td>02:58:23</td>\n",
       "      <td>?</td>\n",
       "      <td>NaN</td>\n",
       "    </tr>\n",
       "    <tr>\n",
       "      <th>8</th>\n",
       "      <td>2006-09-24</td>\n",
       "      <td>2006</td>\n",
       "      <td>3b Marathon</td>\n",
       "      <td>Toronto Waterfront Marathon</td>\n",
       "      <td>Michal Kapral</td>\n",
       "      <td>M</td>\n",
       "      <td>CAN</td>\n",
       "      <td>02:57:44</td>\n",
       "      <td>8</td>\n",
       "      <td>NaN</td>\n",
       "    </tr>\n",
       "    <tr>\n",
       "      <th>9</th>\n",
       "      <td>2006-11-19</td>\n",
       "      <td>2006</td>\n",
       "      <td>3b Marathon</td>\n",
       "      <td>Philadelphia Marathon</td>\n",
       "      <td>Zach Warren</td>\n",
       "      <td>M</td>\n",
       "      <td>USA</td>\n",
       "      <td>02:52:15</td>\n",
       "      <td>?</td>\n",
       "      <td>NaN</td>\n",
       "    </tr>\n",
       "    <tr>\n",
       "      <th>10</th>\n",
       "      <td>2007-09-30</td>\n",
       "      <td>2007</td>\n",
       "      <td>3b Marathon</td>\n",
       "      <td>Toronto Waterfront Marathon</td>\n",
       "      <td>Michal Kapral</td>\n",
       "      <td>M</td>\n",
       "      <td>CAN</td>\n",
       "      <td>02:50:12</td>\n",
       "      <td>2</td>\n",
       "      <td>NaN</td>\n",
       "    </tr>\n",
       "    <tr>\n",
       "      <th>11</th>\n",
       "      <td>2025-06-04</td>\n",
       "      <td>2025</td>\n",
       "      <td>3b Marathon</td>\n",
       "      <td>Namur Marathon, Belgium</td>\n",
       "      <td>Benjamin Balbeur</td>\n",
       "      <td>M</td>\n",
       "      <td>BEL</td>\n",
       "      <td>02:47:52</td>\n",
       "      <td>?</td>\n",
       "      <td>Current WR</td>\n",
       "    </tr>\n",
       "  </tbody>\n",
       "</table>\n",
       "</div>"
      ],
      "text/plain": [
       "         Date  Year     Distance                    Event / Venue  \\\n",
       "0  1981-12-09  1981  3b Marathon  Montreal International Marathon   \n",
       "1  1982-05-30  1982  3b Marathon  Montreal International Marathon   \n",
       "2  1988-01-01  1988  3b Marathon                               ??   \n",
       "3  1988-04-07  1988  3b Marathon               Salmon River Idaho   \n",
       "4  2000-10-08  2000  3b Marathon               Karlsruhe, Germany   \n",
       "5  2005-09-25  2005  3b Marathon      Toronto Waterfront Marathon   \n",
       "6  2005-11-20  2005  3b Marathon            Philadelphia Marathon   \n",
       "7  2006-04-17  2006  3b Marathon                  Boston Marathon   \n",
       "8  2006-09-24  2006  3b Marathon      Toronto Waterfront Marathon   \n",
       "9  2006-11-19  2006  3b Marathon            Philadelphia Marathon   \n",
       "10 2007-09-30  2007  3b Marathon      Toronto Waterfront Marathon   \n",
       "11 2025-06-04  2025  3b Marathon          Namur Marathon, Belgium   \n",
       "\n",
       "               Joggler Gender Nationality Finish Time Drops  \\\n",
       "0      Michel Lauzière      M         CAN    04:05:00     1   \n",
       "1      Michel Lauzière      M         CAN    03:57:00     ?   \n",
       "2         Albert Lucas      M         USA    03:29:04     ?   \n",
       "3       Ashrita Furman      M         USA    03:22:32     ?   \n",
       "4   Paul-Erik Lillholm      M         NOR    03:20:49     ?   \n",
       "5        Michal Kapral      M         CAN    03:07:46    20   \n",
       "6          Zach Warren      M         USA    03:07:05     ?   \n",
       "7          Zach Warren      M         USA    02:58:23     ?   \n",
       "8        Michal Kapral      M         CAN    02:57:44     8   \n",
       "9          Zach Warren      M         USA    02:52:15     ?   \n",
       "10       Michal Kapral      M         CAN    02:50:12     2   \n",
       "11    Benjamin Balbeur      M         BEL    02:47:52     ?   \n",
       "\n",
       "       Notes / Result Links  \n",
       "0   First Joggling Marathon  \n",
       "1                       NaN  \n",
       "2                       NaN  \n",
       "3                       NaN  \n",
       "4                       NaN  \n",
       "5                       NaN  \n",
       "6               First Sub 3  \n",
       "7                       NaN  \n",
       "8                       NaN  \n",
       "9                       NaN  \n",
       "10                      NaN  \n",
       "11               Current WR  "
      ]
     },
     "execution_count": 53,
     "metadata": {},
     "output_type": "execute_result"
    }
   ],
   "source": [
    "df = pd.read_csv('3b_marathon_record_progression.csv')\n",
    "df['Date'] = df['Date'].astype('datetime64[ns]')\n",
    "df['Finish Time'] = pd.to_datetime(df['Finish Time'], format='%H:%M:%S.%f').dt.time\n",
    "df"
   ]
  },
  {
   "cell_type": "code",
   "execution_count": 149,
   "id": "33fef20e",
   "metadata": {},
   "outputs": [
    {
     "data": {
      "application/vnd.plotly.v1+json": {
       "config": {
        "plotlyServerURL": "https://plot.ly"
       },
       "data": [
        {
         "line": {
          "shape": "hv"
         },
         "mode": "lines+markers+text",
         "name": "Record Progression",
         "text": [
          "Michel Lauzière (04:05:00)",
          "Michel Lauzière (03:57:00)",
          "Albert Lucas (03:29:04)",
          "Ashrita Furman (03:22:32)",
          "Paul-Erik Lillholm (03:20:49)",
          "Michal Kapral (03:07:46)",
          "Zach Warren (03:07:05)",
          "Zach Warren (02:58:23)",
          "Michal Kapral (02:57:44)",
          "Zach Warren (02:52:15)",
          "Michal Kapral (02:50:12)",
          "Benjamin Balbeur (02:47:52)"
         ],
         "textposition": [
          "top right",
          "bottom center",
          "top right",
          "bottom center",
          "top center",
          "top right",
          "bottom left",
          "top right",
          "bottom left",
          "top right",
          "bottom left",
          "bottom left"
         ],
         "type": "scatter",
         "x": [
          "1981-12-09T00:00:00.000000000",
          "1982-05-30T00:00:00.000000000",
          "1988-01-01T00:00:00.000000000",
          "1988-04-07T00:00:00.000000000",
          "2000-10-08T00:00:00.000000000",
          "2005-09-25T00:00:00.000000000",
          "2005-11-20T00:00:00.000000000",
          "2006-04-17T00:00:00.000000000",
          "2006-09-24T00:00:00.000000000",
          "2006-11-19T00:00:00.000000000",
          "2007-09-30T00:00:00.000000000",
          "2025-06-04T00:00:00.000000000"
         ],
         "y": {
          "bdata": "bDmMNwAxeC8RLwIs2SvPKagpXyjkJ1gn",
          "dtype": "i2"
         }
        },
        {
         "mode": "markers+text",
         "name": "Other Notable Attempts",
         "text": [
          "Edwin/Bergeron (3:00:06)",
          "Doiron (2:52:39)",
          "Bolton (3:45:50)"
         ],
         "textposition": [
          "top center",
          "top center",
          "top right"
         ],
         "type": "scatter",
         "x": [
          "2023-10-15",
          "2024-05-12",
          "1988-07-01"
         ],
         "y": [
          10806,
          10359,
          13550
         ]
        }
       ],
       "layout": {
        "showlegend": true,
        "template": {
         "data": {
          "bar": [
           {
            "error_x": {
             "color": "rgb(36,36,36)"
            },
            "error_y": {
             "color": "rgb(36,36,36)"
            },
            "marker": {
             "line": {
              "color": "white",
              "width": 0.5
             },
             "pattern": {
              "fillmode": "overlay",
              "size": 10,
              "solidity": 0.2
             }
            },
            "type": "bar"
           }
          ],
          "barpolar": [
           {
            "marker": {
             "line": {
              "color": "white",
              "width": 0.5
             },
             "pattern": {
              "fillmode": "overlay",
              "size": 10,
              "solidity": 0.2
             }
            },
            "type": "barpolar"
           }
          ],
          "carpet": [
           {
            "aaxis": {
             "endlinecolor": "rgb(36,36,36)",
             "gridcolor": "white",
             "linecolor": "white",
             "minorgridcolor": "white",
             "startlinecolor": "rgb(36,36,36)"
            },
            "baxis": {
             "endlinecolor": "rgb(36,36,36)",
             "gridcolor": "white",
             "linecolor": "white",
             "minorgridcolor": "white",
             "startlinecolor": "rgb(36,36,36)"
            },
            "type": "carpet"
           }
          ],
          "choropleth": [
           {
            "colorbar": {
             "outlinewidth": 1,
             "tickcolor": "rgb(36,36,36)",
             "ticks": "outside"
            },
            "type": "choropleth"
           }
          ],
          "contour": [
           {
            "colorbar": {
             "outlinewidth": 1,
             "tickcolor": "rgb(36,36,36)",
             "ticks": "outside"
            },
            "colorscale": [
             [
              0,
              "#440154"
             ],
             [
              0.1111111111111111,
              "#482878"
             ],
             [
              0.2222222222222222,
              "#3e4989"
             ],
             [
              0.3333333333333333,
              "#31688e"
             ],
             [
              0.4444444444444444,
              "#26828e"
             ],
             [
              0.5555555555555556,
              "#1f9e89"
             ],
             [
              0.6666666666666666,
              "#35b779"
             ],
             [
              0.7777777777777778,
              "#6ece58"
             ],
             [
              0.8888888888888888,
              "#b5de2b"
             ],
             [
              1,
              "#fde725"
             ]
            ],
            "type": "contour"
           }
          ],
          "contourcarpet": [
           {
            "colorbar": {
             "outlinewidth": 1,
             "tickcolor": "rgb(36,36,36)",
             "ticks": "outside"
            },
            "type": "contourcarpet"
           }
          ],
          "heatmap": [
           {
            "colorbar": {
             "outlinewidth": 1,
             "tickcolor": "rgb(36,36,36)",
             "ticks": "outside"
            },
            "colorscale": [
             [
              0,
              "#440154"
             ],
             [
              0.1111111111111111,
              "#482878"
             ],
             [
              0.2222222222222222,
              "#3e4989"
             ],
             [
              0.3333333333333333,
              "#31688e"
             ],
             [
              0.4444444444444444,
              "#26828e"
             ],
             [
              0.5555555555555556,
              "#1f9e89"
             ],
             [
              0.6666666666666666,
              "#35b779"
             ],
             [
              0.7777777777777778,
              "#6ece58"
             ],
             [
              0.8888888888888888,
              "#b5de2b"
             ],
             [
              1,
              "#fde725"
             ]
            ],
            "type": "heatmap"
           }
          ],
          "histogram": [
           {
            "marker": {
             "line": {
              "color": "white",
              "width": 0.6
             }
            },
            "type": "histogram"
           }
          ],
          "histogram2d": [
           {
            "colorbar": {
             "outlinewidth": 1,
             "tickcolor": "rgb(36,36,36)",
             "ticks": "outside"
            },
            "colorscale": [
             [
              0,
              "#440154"
             ],
             [
              0.1111111111111111,
              "#482878"
             ],
             [
              0.2222222222222222,
              "#3e4989"
             ],
             [
              0.3333333333333333,
              "#31688e"
             ],
             [
              0.4444444444444444,
              "#26828e"
             ],
             [
              0.5555555555555556,
              "#1f9e89"
             ],
             [
              0.6666666666666666,
              "#35b779"
             ],
             [
              0.7777777777777778,
              "#6ece58"
             ],
             [
              0.8888888888888888,
              "#b5de2b"
             ],
             [
              1,
              "#fde725"
             ]
            ],
            "type": "histogram2d"
           }
          ],
          "histogram2dcontour": [
           {
            "colorbar": {
             "outlinewidth": 1,
             "tickcolor": "rgb(36,36,36)",
             "ticks": "outside"
            },
            "colorscale": [
             [
              0,
              "#440154"
             ],
             [
              0.1111111111111111,
              "#482878"
             ],
             [
              0.2222222222222222,
              "#3e4989"
             ],
             [
              0.3333333333333333,
              "#31688e"
             ],
             [
              0.4444444444444444,
              "#26828e"
             ],
             [
              0.5555555555555556,
              "#1f9e89"
             ],
             [
              0.6666666666666666,
              "#35b779"
             ],
             [
              0.7777777777777778,
              "#6ece58"
             ],
             [
              0.8888888888888888,
              "#b5de2b"
             ],
             [
              1,
              "#fde725"
             ]
            ],
            "type": "histogram2dcontour"
           }
          ],
          "mesh3d": [
           {
            "colorbar": {
             "outlinewidth": 1,
             "tickcolor": "rgb(36,36,36)",
             "ticks": "outside"
            },
            "type": "mesh3d"
           }
          ],
          "parcoords": [
           {
            "line": {
             "colorbar": {
              "outlinewidth": 1,
              "tickcolor": "rgb(36,36,36)",
              "ticks": "outside"
             }
            },
            "type": "parcoords"
           }
          ],
          "pie": [
           {
            "automargin": true,
            "type": "pie"
           }
          ],
          "scatter": [
           {
            "fillpattern": {
             "fillmode": "overlay",
             "size": 10,
             "solidity": 0.2
            },
            "type": "scatter"
           }
          ],
          "scatter3d": [
           {
            "line": {
             "colorbar": {
              "outlinewidth": 1,
              "tickcolor": "rgb(36,36,36)",
              "ticks": "outside"
             }
            },
            "marker": {
             "colorbar": {
              "outlinewidth": 1,
              "tickcolor": "rgb(36,36,36)",
              "ticks": "outside"
             }
            },
            "type": "scatter3d"
           }
          ],
          "scattercarpet": [
           {
            "marker": {
             "colorbar": {
              "outlinewidth": 1,
              "tickcolor": "rgb(36,36,36)",
              "ticks": "outside"
             }
            },
            "type": "scattercarpet"
           }
          ],
          "scattergeo": [
           {
            "marker": {
             "colorbar": {
              "outlinewidth": 1,
              "tickcolor": "rgb(36,36,36)",
              "ticks": "outside"
             }
            },
            "type": "scattergeo"
           }
          ],
          "scattergl": [
           {
            "marker": {
             "colorbar": {
              "outlinewidth": 1,
              "tickcolor": "rgb(36,36,36)",
              "ticks": "outside"
             }
            },
            "type": "scattergl"
           }
          ],
          "scattermap": [
           {
            "marker": {
             "colorbar": {
              "outlinewidth": 1,
              "tickcolor": "rgb(36,36,36)",
              "ticks": "outside"
             }
            },
            "type": "scattermap"
           }
          ],
          "scattermapbox": [
           {
            "marker": {
             "colorbar": {
              "outlinewidth": 1,
              "tickcolor": "rgb(36,36,36)",
              "ticks": "outside"
             }
            },
            "type": "scattermapbox"
           }
          ],
          "scatterpolar": [
           {
            "marker": {
             "colorbar": {
              "outlinewidth": 1,
              "tickcolor": "rgb(36,36,36)",
              "ticks": "outside"
             }
            },
            "type": "scatterpolar"
           }
          ],
          "scatterpolargl": [
           {
            "marker": {
             "colorbar": {
              "outlinewidth": 1,
              "tickcolor": "rgb(36,36,36)",
              "ticks": "outside"
             }
            },
            "type": "scatterpolargl"
           }
          ],
          "scatterternary": [
           {
            "marker": {
             "colorbar": {
              "outlinewidth": 1,
              "tickcolor": "rgb(36,36,36)",
              "ticks": "outside"
             }
            },
            "type": "scatterternary"
           }
          ],
          "surface": [
           {
            "colorbar": {
             "outlinewidth": 1,
             "tickcolor": "rgb(36,36,36)",
             "ticks": "outside"
            },
            "colorscale": [
             [
              0,
              "#440154"
             ],
             [
              0.1111111111111111,
              "#482878"
             ],
             [
              0.2222222222222222,
              "#3e4989"
             ],
             [
              0.3333333333333333,
              "#31688e"
             ],
             [
              0.4444444444444444,
              "#26828e"
             ],
             [
              0.5555555555555556,
              "#1f9e89"
             ],
             [
              0.6666666666666666,
              "#35b779"
             ],
             [
              0.7777777777777778,
              "#6ece58"
             ],
             [
              0.8888888888888888,
              "#b5de2b"
             ],
             [
              1,
              "#fde725"
             ]
            ],
            "type": "surface"
           }
          ],
          "table": [
           {
            "cells": {
             "fill": {
              "color": "rgb(237,237,237)"
             },
             "line": {
              "color": "white"
             }
            },
            "header": {
             "fill": {
              "color": "rgb(217,217,217)"
             },
             "line": {
              "color": "white"
             }
            },
            "type": "table"
           }
          ]
         },
         "layout": {
          "annotationdefaults": {
           "arrowhead": 0,
           "arrowwidth": 1
          },
          "autotypenumbers": "strict",
          "coloraxis": {
           "colorbar": {
            "outlinewidth": 1,
            "tickcolor": "rgb(36,36,36)",
            "ticks": "outside"
           }
          },
          "colorscale": {
           "diverging": [
            [
             0,
             "rgb(103,0,31)"
            ],
            [
             0.1,
             "rgb(178,24,43)"
            ],
            [
             0.2,
             "rgb(214,96,77)"
            ],
            [
             0.3,
             "rgb(244,165,130)"
            ],
            [
             0.4,
             "rgb(253,219,199)"
            ],
            [
             0.5,
             "rgb(247,247,247)"
            ],
            [
             0.6,
             "rgb(209,229,240)"
            ],
            [
             0.7,
             "rgb(146,197,222)"
            ],
            [
             0.8,
             "rgb(67,147,195)"
            ],
            [
             0.9,
             "rgb(33,102,172)"
            ],
            [
             1,
             "rgb(5,48,97)"
            ]
           ],
           "sequential": [
            [
             0,
             "#440154"
            ],
            [
             0.1111111111111111,
             "#482878"
            ],
            [
             0.2222222222222222,
             "#3e4989"
            ],
            [
             0.3333333333333333,
             "#31688e"
            ],
            [
             0.4444444444444444,
             "#26828e"
            ],
            [
             0.5555555555555556,
             "#1f9e89"
            ],
            [
             0.6666666666666666,
             "#35b779"
            ],
            [
             0.7777777777777778,
             "#6ece58"
            ],
            [
             0.8888888888888888,
             "#b5de2b"
            ],
            [
             1,
             "#fde725"
            ]
           ],
           "sequentialminus": [
            [
             0,
             "#440154"
            ],
            [
             0.1111111111111111,
             "#482878"
            ],
            [
             0.2222222222222222,
             "#3e4989"
            ],
            [
             0.3333333333333333,
             "#31688e"
            ],
            [
             0.4444444444444444,
             "#26828e"
            ],
            [
             0.5555555555555556,
             "#1f9e89"
            ],
            [
             0.6666666666666666,
             "#35b779"
            ],
            [
             0.7777777777777778,
             "#6ece58"
            ],
            [
             0.8888888888888888,
             "#b5de2b"
            ],
            [
             1,
             "#fde725"
            ]
           ]
          },
          "colorway": [
           "#1F77B4",
           "#FF7F0E",
           "#2CA02C",
           "#D62728",
           "#9467BD",
           "#8C564B",
           "#E377C2",
           "#7F7F7F",
           "#BCBD22",
           "#17BECF"
          ],
          "font": {
           "color": "rgb(36,36,36)"
          },
          "geo": {
           "bgcolor": "white",
           "lakecolor": "white",
           "landcolor": "white",
           "showlakes": true,
           "showland": true,
           "subunitcolor": "white"
          },
          "hoverlabel": {
           "align": "left"
          },
          "hovermode": "closest",
          "mapbox": {
           "style": "light"
          },
          "paper_bgcolor": "white",
          "plot_bgcolor": "white",
          "polar": {
           "angularaxis": {
            "gridcolor": "rgb(232,232,232)",
            "linecolor": "rgb(36,36,36)",
            "showgrid": false,
            "showline": true,
            "ticks": "outside"
           },
           "bgcolor": "white",
           "radialaxis": {
            "gridcolor": "rgb(232,232,232)",
            "linecolor": "rgb(36,36,36)",
            "showgrid": false,
            "showline": true,
            "ticks": "outside"
           }
          },
          "scene": {
           "xaxis": {
            "backgroundcolor": "white",
            "gridcolor": "rgb(232,232,232)",
            "gridwidth": 2,
            "linecolor": "rgb(36,36,36)",
            "showbackground": true,
            "showgrid": false,
            "showline": true,
            "ticks": "outside",
            "zeroline": false,
            "zerolinecolor": "rgb(36,36,36)"
           },
           "yaxis": {
            "backgroundcolor": "white",
            "gridcolor": "rgb(232,232,232)",
            "gridwidth": 2,
            "linecolor": "rgb(36,36,36)",
            "showbackground": true,
            "showgrid": false,
            "showline": true,
            "ticks": "outside",
            "zeroline": false,
            "zerolinecolor": "rgb(36,36,36)"
           },
           "zaxis": {
            "backgroundcolor": "white",
            "gridcolor": "rgb(232,232,232)",
            "gridwidth": 2,
            "linecolor": "rgb(36,36,36)",
            "showbackground": true,
            "showgrid": false,
            "showline": true,
            "ticks": "outside",
            "zeroline": false,
            "zerolinecolor": "rgb(36,36,36)"
           }
          },
          "shapedefaults": {
           "fillcolor": "black",
           "line": {
            "width": 0
           },
           "opacity": 0.3
          },
          "ternary": {
           "aaxis": {
            "gridcolor": "rgb(232,232,232)",
            "linecolor": "rgb(36,36,36)",
            "showgrid": false,
            "showline": true,
            "ticks": "outside"
           },
           "baxis": {
            "gridcolor": "rgb(232,232,232)",
            "linecolor": "rgb(36,36,36)",
            "showgrid": false,
            "showline": true,
            "ticks": "outside"
           },
           "bgcolor": "white",
           "caxis": {
            "gridcolor": "rgb(232,232,232)",
            "linecolor": "rgb(36,36,36)",
            "showgrid": false,
            "showline": true,
            "ticks": "outside"
           }
          },
          "title": {
           "x": 0.05
          },
          "xaxis": {
           "automargin": true,
           "gridcolor": "rgb(232,232,232)",
           "linecolor": "rgb(36,36,36)",
           "showgrid": false,
           "showline": true,
           "ticks": "outside",
           "title": {
            "standoff": 15
           },
           "zeroline": false,
           "zerolinecolor": "rgb(36,36,36)"
          },
          "yaxis": {
           "automargin": true,
           "gridcolor": "rgb(232,232,232)",
           "linecolor": "rgb(36,36,36)",
           "showgrid": false,
           "showline": true,
           "ticks": "outside",
           "title": {
            "standoff": 15
           },
           "zeroline": false,
           "zerolinecolor": "rgb(36,36,36)"
          }
         }
        },
        "title": {
         "text": "3b Joggling Marathon Record Progression"
        },
        "width": 1500,
        "xaxis": {
         "range": [
          "1976-01-01",
          "2028-12-31"
         ],
         "title": {
          "text": "Year"
         },
         "type": "date"
        },
        "yaxis": {
         "range": [
          9300,
          15300
         ],
         "tickmode": "array",
         "ticktext": [
          "2:40",
          "2:45",
          "2:50",
          "2:55",
          "3:00",
          "3:05",
          "3:10",
          "3:15",
          "3:20",
          "3:25",
          "3:30",
          "3:35",
          "3:40",
          "3:45",
          "3:50",
          "3:55",
          "4:00",
          "4:05",
          "4:10"
         ],
         "tickvals": [
          9600,
          9900,
          10200,
          10500,
          10800,
          11100,
          11400,
          11700,
          12000,
          12300,
          12600,
          12900,
          13200,
          13500,
          13800,
          14100,
          14400,
          14700,
          15000
         ],
         "title": {
          "text": "Finish Time"
         }
        }
       }
      }
     },
     "metadata": {},
     "output_type": "display_data"
    }
   ],
   "source": [
    "# Create the plot\n",
    "# Convert 'Finish Time' to total seconds for plotting\n",
    "df['Finish Time (seconds)'] = df['Finish Time'].apply(lambda x: x.hour * 3600 + x.minute * 60 + x.second)\n",
    "\n",
    "fig = go.Figure()\n",
    "\n",
    "fig.add_trace(go.Scatter(\n",
    "    x=df['Date'],\n",
    "    y=df['Finish Time (seconds)'],\n",
    "    mode='lines+markers+text',\n",
    "    name='Record Progression',\n",
    "    line_shape='hv',\n",
    "    text=df['Joggler'] + ' (' + df['Finish Time'].astype(str) + ')',\n",
    "    textposition=['top right','bottom center','top right', 'bottom center','top center', 'top right', 'bottom left', 'top right', 'bottom left', 'top right','bottom left', 'bottom left']\n",
    "))\n",
    "\n",
    "# Add Doiron attempts, Bergeron and Edwin 3:00:06\n",
    "# 2:52:39 converted to seconds: (2 * 3600) + (52 * 60) + 39 = 10359\n",
    "# 3:00:06 converted to seconds: (3 * 3600) + (0 * 60) + 6 = 10806\n",
    "#3:45:50 converted to seconds: (3 * 3600) + (45 * 60) + 50 = 13550\n",
    "fig.add_trace(go.Scatter(\n",
    "    x=[date(2023, 10, 15), date(2024,5,12), date(1988,7,1)],\n",
    "    y=[10806, 10359,13550],  \n",
    "    mode='markers+text',\n",
    "    text=['Edwin/Bergeron (3:00:06)', 'Doiron (2:52:39)', 'Bolton (3:45:50)'],\n",
    "    textposition=['top center','top center','top right',],\n",
    "    name='Other Notable Attempts',\n",
    "))\n",
    "\n",
    "# Update layout\n",
    "fig.update_layout(\n",
    "    title='3b Joggling Marathon Record Progression',\n",
    "    width=1500,\n",
    "    xaxis_title='Year',\n",
    "    yaxis_title='Finish Time',\n",
    "    xaxis=dict(type='date',\n",
    "               range=['1976-01-01', '2028-12-31'],),\n",
    "    yaxis=dict(\n",
    "        tickmode='array',\n",
    "        tickvals=[9600, 9900, 10200, 10500, 10800, 11100, 11400, 11700, 12000, 12300, 12600, 12900, 13200, 13500, 13800, 14100, 14400, 14700, 15000],\n",
    "        ticktext=['2:40', '2:45', '2:50', '2:55', '3:00', '3:05', '3:10', '3:15', '3:20','3:25', '3:30', '3:35', '3:40', '3:45', '3:50', '3:55', '4:00', '4:05', '4:10'],\n",
    "        range=[9300, 15300],\n",
    "    ),\n",
    "    template= 'simple_white', #'plotly_white',\n",
    "    showlegend=True,\n",
    ")\n",
    "\n",
    "fig.show()"
   ]
  },
  {
   "cell_type": "code",
   "execution_count": 22,
   "id": "39cfe8cf",
   "metadata": {},
   "outputs": [
    {
     "data": {
      "text/html": [
       "<div>\n",
       "<style scoped>\n",
       "    .dataframe tbody tr th:only-of-type {\n",
       "        vertical-align: middle;\n",
       "    }\n",
       "\n",
       "    .dataframe tbody tr th {\n",
       "        vertical-align: top;\n",
       "    }\n",
       "\n",
       "    .dataframe thead th {\n",
       "        text-align: right;\n",
       "    }\n",
       "</style>\n",
       "<table border=\"1\" class=\"dataframe\">\n",
       "  <thead>\n",
       "    <tr style=\"text-align: right;\">\n",
       "      <th></th>\n",
       "      <th>Date</th>\n",
       "      <th>Year</th>\n",
       "      <th>Distance</th>\n",
       "      <th>Event / Venue</th>\n",
       "      <th>Joggler</th>\n",
       "      <th>Gender</th>\n",
       "      <th>Nationality</th>\n",
       "      <th>Finish Time</th>\n",
       "      <th>Drops</th>\n",
       "      <th>Notes / Result Links</th>\n",
       "    </tr>\n",
       "  </thead>\n",
       "  <tbody>\n",
       "    <tr>\n",
       "      <th>0</th>\n",
       "      <td>1981-12-09</td>\n",
       "      <td>1981</td>\n",
       "      <td>3b Marathon</td>\n",
       "      <td>Montreal International Marathon</td>\n",
       "      <td>Michel Lauzière</td>\n",
       "      <td>M</td>\n",
       "      <td>CAN</td>\n",
       "      <td>4:05:00.00</td>\n",
       "      <td>1</td>\n",
       "      <td>First Joggling Marathon</td>\n",
       "    </tr>\n",
       "    <tr>\n",
       "      <th>3</th>\n",
       "      <td>1988-04-07</td>\n",
       "      <td>1988</td>\n",
       "      <td>3b Marathon</td>\n",
       "      <td>Salmon River Idaho</td>\n",
       "      <td>Ashrita Furman</td>\n",
       "      <td>M</td>\n",
       "      <td>USA</td>\n",
       "      <td>3:22:32.00</td>\n",
       "      <td>?</td>\n",
       "      <td>NaN</td>\n",
       "    </tr>\n",
       "    <tr>\n",
       "      <th>4</th>\n",
       "      <td>2000-10-08</td>\n",
       "      <td>2000</td>\n",
       "      <td>3b Marathon</td>\n",
       "      <td>Karlsruhe, Germany</td>\n",
       "      <td>Paul-Erik Lillholm</td>\n",
       "      <td>M</td>\n",
       "      <td>NOR</td>\n",
       "      <td>3:20:49.00</td>\n",
       "      <td>?</td>\n",
       "      <td>NaN</td>\n",
       "    </tr>\n",
       "    <tr>\n",
       "      <th>11</th>\n",
       "      <td>2025-06-04</td>\n",
       "      <td>2025</td>\n",
       "      <td>3b Marathon</td>\n",
       "      <td>Namur Marathon, Belgium</td>\n",
       "      <td>Benjamin Balbeur</td>\n",
       "      <td>M</td>\n",
       "      <td>BEL</td>\n",
       "      <td>2:47:52.00</td>\n",
       "      <td>?</td>\n",
       "      <td>Current WR</td>\n",
       "    </tr>\n",
       "    <tr>\n",
       "      <th>1</th>\n",
       "      <td>NaT</td>\n",
       "      <td>1982</td>\n",
       "      <td>3b Marathon</td>\n",
       "      <td>Montreal International Marathon</td>\n",
       "      <td>Michel Lauzière</td>\n",
       "      <td>M</td>\n",
       "      <td>CAN</td>\n",
       "      <td>3:57:00.00</td>\n",
       "      <td>?</td>\n",
       "      <td>NaN</td>\n",
       "    </tr>\n",
       "    <tr>\n",
       "      <th>2</th>\n",
       "      <td>NaT</td>\n",
       "      <td>1988</td>\n",
       "      <td>3b Marathon</td>\n",
       "      <td>??</td>\n",
       "      <td>Albert Lucas</td>\n",
       "      <td>M</td>\n",
       "      <td>USA</td>\n",
       "      <td>3:29:04.00</td>\n",
       "      <td>?</td>\n",
       "      <td>NaN</td>\n",
       "    </tr>\n",
       "    <tr>\n",
       "      <th>5</th>\n",
       "      <td>NaT</td>\n",
       "      <td>2005</td>\n",
       "      <td>3b Marathon</td>\n",
       "      <td>Toronto Waterfront Marathon</td>\n",
       "      <td>Michal Kapral</td>\n",
       "      <td>M</td>\n",
       "      <td>CAN</td>\n",
       "      <td>3:07:46.00</td>\n",
       "      <td>20</td>\n",
       "      <td>NaN</td>\n",
       "    </tr>\n",
       "    <tr>\n",
       "      <th>6</th>\n",
       "      <td>NaT</td>\n",
       "      <td>2005</td>\n",
       "      <td>3b Marathon</td>\n",
       "      <td>Philadelphia Marathon</td>\n",
       "      <td>Zach Warren</td>\n",
       "      <td>M</td>\n",
       "      <td>USA</td>\n",
       "      <td>3:07:05.00</td>\n",
       "      <td>?</td>\n",
       "      <td>First Sub 3</td>\n",
       "    </tr>\n",
       "    <tr>\n",
       "      <th>7</th>\n",
       "      <td>NaT</td>\n",
       "      <td>2006</td>\n",
       "      <td>3b Marathon</td>\n",
       "      <td>Boston Marathon</td>\n",
       "      <td>Zach Warren</td>\n",
       "      <td>M</td>\n",
       "      <td>USA</td>\n",
       "      <td>2:58:23.00</td>\n",
       "      <td>?</td>\n",
       "      <td>NaN</td>\n",
       "    </tr>\n",
       "    <tr>\n",
       "      <th>8</th>\n",
       "      <td>NaT</td>\n",
       "      <td>2006</td>\n",
       "      <td>3b Marathon</td>\n",
       "      <td>Toronto Waterfront Marathon</td>\n",
       "      <td>Michal Kapral</td>\n",
       "      <td>M</td>\n",
       "      <td>CAN</td>\n",
       "      <td>2:57:44.00</td>\n",
       "      <td>8</td>\n",
       "      <td>NaN</td>\n",
       "    </tr>\n",
       "    <tr>\n",
       "      <th>9</th>\n",
       "      <td>NaT</td>\n",
       "      <td>2006</td>\n",
       "      <td>3b Marathon</td>\n",
       "      <td>Philadelphia Marathon</td>\n",
       "      <td>Zach Warren</td>\n",
       "      <td>M</td>\n",
       "      <td>USA</td>\n",
       "      <td>2:52:15.00</td>\n",
       "      <td>?</td>\n",
       "      <td>NaN</td>\n",
       "    </tr>\n",
       "    <tr>\n",
       "      <th>10</th>\n",
       "      <td>NaT</td>\n",
       "      <td>2007</td>\n",
       "      <td>3b Marathon</td>\n",
       "      <td>Toronto Waterfront Marathon</td>\n",
       "      <td>Michal Kapral</td>\n",
       "      <td>M</td>\n",
       "      <td>CAN</td>\n",
       "      <td>2:50:12.00</td>\n",
       "      <td>2</td>\n",
       "      <td>NaN</td>\n",
       "    </tr>\n",
       "  </tbody>\n",
       "</table>\n",
       "</div>"
      ],
      "text/plain": [
       "         Date  Year     Distance                    Event / Venue  \\\n",
       "0  1981-12-09  1981  3b Marathon  Montreal International Marathon   \n",
       "3  1988-04-07  1988  3b Marathon               Salmon River Idaho   \n",
       "4  2000-10-08  2000  3b Marathon               Karlsruhe, Germany   \n",
       "11 2025-06-04  2025  3b Marathon          Namur Marathon, Belgium   \n",
       "1         NaT  1982  3b Marathon  Montreal International Marathon   \n",
       "2         NaT  1988  3b Marathon                               ??   \n",
       "5         NaT  2005  3b Marathon      Toronto Waterfront Marathon   \n",
       "6         NaT  2005  3b Marathon            Philadelphia Marathon   \n",
       "7         NaT  2006  3b Marathon                  Boston Marathon   \n",
       "8         NaT  2006  3b Marathon      Toronto Waterfront Marathon   \n",
       "9         NaT  2006  3b Marathon            Philadelphia Marathon   \n",
       "10        NaT  2007  3b Marathon      Toronto Waterfront Marathon   \n",
       "\n",
       "               Joggler Gender Nationality Finish Time Drops  \\\n",
       "0      Michel Lauzière      M         CAN  4:05:00.00     1   \n",
       "3       Ashrita Furman      M         USA  3:22:32.00     ?   \n",
       "4   Paul-Erik Lillholm      M         NOR  3:20:49.00     ?   \n",
       "11    Benjamin Balbeur      M         BEL  2:47:52.00     ?   \n",
       "1      Michel Lauzière      M         CAN  3:57:00.00     ?   \n",
       "2         Albert Lucas      M         USA  3:29:04.00     ?   \n",
       "5        Michal Kapral      M         CAN  3:07:46.00    20   \n",
       "6          Zach Warren      M         USA  3:07:05.00     ?   \n",
       "7          Zach Warren      M         USA  2:58:23.00     ?   \n",
       "8        Michal Kapral      M         CAN  2:57:44.00     8   \n",
       "9          Zach Warren      M         USA  2:52:15.00     ?   \n",
       "10       Michal Kapral      M         CAN  2:50:12.00     2   \n",
       "\n",
       "       Notes / Result Links  \n",
       "0   First Joggling Marathon  \n",
       "3                       NaN  \n",
       "4                       NaN  \n",
       "11               Current WR  \n",
       "1                       NaN  \n",
       "2                       NaN  \n",
       "5                       NaN  \n",
       "6               First Sub 3  \n",
       "7                       NaN  \n",
       "8                       NaN  \n",
       "9                       NaN  \n",
       "10                      NaN  "
      ]
     },
     "execution_count": 22,
     "metadata": {},
     "output_type": "execute_result"
    }
   ],
   "source": [
    "df"
   ]
  },
  {
   "cell_type": "markdown",
   "id": "555995c8",
   "metadata": {},
   "source": []
  }
 ],
 "metadata": {
  "kernelspec": {
   "display_name": ".venv",
   "language": "python",
   "name": "python3"
  },
  "language_info": {
   "codemirror_mode": {
    "name": "ipython",
    "version": 3
   },
   "file_extension": ".py",
   "mimetype": "text/x-python",
   "name": "python",
   "nbconvert_exporter": "python",
   "pygments_lexer": "ipython3",
   "version": "3.13.2"
  }
 },
 "nbformat": 4,
 "nbformat_minor": 5
}
