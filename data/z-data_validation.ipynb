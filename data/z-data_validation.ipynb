{
 "cells": [
  {
   "cell_type": "markdown",
   "metadata": {},
   "source": [
    "## Short Script for Data Validation\n",
    "\n",
    "- Checks the 'Finish Time' values are in the correct HH:MM:SS.ff time format"
   ]
  },
  {
   "cell_type": "code",
   "execution_count": 1,
   "metadata": {},
   "outputs": [],
   "source": [
    "import re\n",
    "import pandas as pd"
   ]
  },
  {
   "cell_type": "code",
   "execution_count": 3,
   "metadata": {},
   "outputs": [
    {
     "data": {
      "text/html": [
       "<div>\n",
       "<style scoped>\n",
       "    .dataframe tbody tr th:only-of-type {\n",
       "        vertical-align: middle;\n",
       "    }\n",
       "\n",
       "    .dataframe tbody tr th {\n",
       "        vertical-align: top;\n",
       "    }\n",
       "\n",
       "    .dataframe thead th {\n",
       "        text-align: right;\n",
       "    }\n",
       "</style>\n",
       "<table border=\"1\" class=\"dataframe\">\n",
       "  <thead>\n",
       "    <tr style=\"text-align: right;\">\n",
       "      <th></th>\n",
       "      <th>Date</th>\n",
       "      <th>Year</th>\n",
       "      <th>Distance</th>\n",
       "      <th>Event / Venue</th>\n",
       "      <th>Joggler</th>\n",
       "      <th>Gender</th>\n",
       "      <th>Nationality</th>\n",
       "      <th>Finish Time</th>\n",
       "      <th>Drops</th>\n",
       "      <th>Notes / Result Links</th>\n",
       "    </tr>\n",
       "  </thead>\n",
       "  <tbody>\n",
       "    <tr>\n",
       "      <th>0</th>\n",
       "      <td>15/07/2024</td>\n",
       "      <td>2024</td>\n",
       "      <td>3b 5km</td>\n",
       "      <td>IJA, Green Bay</td>\n",
       "      <td>Sterling Franklin</td>\n",
       "      <td>M</td>\n",
       "      <td>USA</td>\n",
       "      <td>0:20:04.00</td>\n",
       "      <td>?</td>\n",
       "      <td>IJA Database</td>\n",
       "    </tr>\n",
       "    <tr>\n",
       "      <th>1</th>\n",
       "      <td>15/07/2024</td>\n",
       "      <td>2024</td>\n",
       "      <td>3b 5km</td>\n",
       "      <td>IJA, Green Bay</td>\n",
       "      <td>Torrey Hamilton</td>\n",
       "      <td>M</td>\n",
       "      <td>0</td>\n",
       "      <td>0:24:54.00</td>\n",
       "      <td>?</td>\n",
       "      <td>IJA Database</td>\n",
       "    </tr>\n",
       "    <tr>\n",
       "      <th>2</th>\n",
       "      <td>15/07/2024</td>\n",
       "      <td>2024</td>\n",
       "      <td>3b 5km</td>\n",
       "      <td>IJA, Green Bay</td>\n",
       "      <td>Barak Hirschowitz</td>\n",
       "      <td>M</td>\n",
       "      <td>USA</td>\n",
       "      <td>0:24:57.00</td>\n",
       "      <td>?</td>\n",
       "      <td>IJA Database</td>\n",
       "    </tr>\n",
       "    <tr>\n",
       "      <th>3</th>\n",
       "      <td>15/07/2024</td>\n",
       "      <td>2024</td>\n",
       "      <td>3b 5km</td>\n",
       "      <td>IJA, Green Bay</td>\n",
       "      <td>Eric Raivo</td>\n",
       "      <td>M</td>\n",
       "      <td>0</td>\n",
       "      <td>0:26:09.00</td>\n",
       "      <td>?</td>\n",
       "      <td>IJA Database</td>\n",
       "    </tr>\n",
       "    <tr>\n",
       "      <th>4</th>\n",
       "      <td>15/07/2024</td>\n",
       "      <td>2024</td>\n",
       "      <td>3b 5km</td>\n",
       "      <td>IJA, Green Bay</td>\n",
       "      <td>Jack Hirschowitz</td>\n",
       "      <td>M</td>\n",
       "      <td>USA</td>\n",
       "      <td>0:29:58.00</td>\n",
       "      <td>?</td>\n",
       "      <td>IJA Database</td>\n",
       "    </tr>\n",
       "  </tbody>\n",
       "</table>\n",
       "</div>"
      ],
      "text/plain": [
       "         Date  Year Distance   Event / Venue            Joggler Gender  \\\n",
       "0  15/07/2024  2024   3b 5km  IJA, Green Bay  Sterling Franklin      M   \n",
       "1  15/07/2024  2024   3b 5km  IJA, Green Bay    Torrey Hamilton      M   \n",
       "2  15/07/2024  2024   3b 5km  IJA, Green Bay  Barak Hirschowitz      M   \n",
       "3  15/07/2024  2024   3b 5km  IJA, Green Bay         Eric Raivo      M   \n",
       "4  15/07/2024  2024   3b 5km  IJA, Green Bay   Jack Hirschowitz      M   \n",
       "\n",
       "  Nationality Finish Time Drops Notes / Result Links  \n",
       "0         USA  0:20:04.00     ?         IJA Database  \n",
       "1           0  0:24:54.00     ?         IJA Database  \n",
       "2         USA  0:24:57.00     ?         IJA Database  \n",
       "3           0  0:26:09.00     ?         IJA Database  \n",
       "4         USA  0:29:58.00     ?         IJA Database  "
      ]
     },
     "execution_count": 3,
     "metadata": {},
     "output_type": "execute_result"
    }
   ],
   "source": [
    "results = pd.read_csv('results.csv', encoding= 'ISO-8859-1',)\n",
    "results.head()"
   ]
  },
  {
   "cell_type": "code",
   "execution_count": 4,
   "metadata": {},
   "outputs": [],
   "source": [
    "def regex_checker(performance):\n",
    "    match = re.match(r'\\d{1,2}[:]\\d{1,2}[:]\\d{1,2}[.]\\d{1,2}',performance)\n",
    "    if match:\n",
    "        return 1\n",
    "    else:\n",
    "        return 0"
   ]
  },
  {
   "cell_type": "code",
   "execution_count": 5,
   "metadata": {},
   "outputs": [
    {
     "name": "stdout",
     "output_type": "stream",
     "text": [
      "All Finish Times are Regex compliant!\n"
     ]
    }
   ],
   "source": [
    "results['valid_regex'] = results['Finish Time'].apply(lambda x: regex_checker(x))\n",
    "\n",
    "\n",
    "to_fix = results[results['valid_regex']==0]\n",
    "\n",
    "if len(to_fix)==0:\n",
    "    print('All Finish Times are Regex compliant!')\n",
    "else:\n",
    "    display(to_fix)"
   ]
  },
  {
   "cell_type": "markdown",
   "metadata": {},
   "source": [
    "Now go and fix them at souce!"
   ]
  },
  {
   "cell_type": "markdown",
   "metadata": {},
   "source": [
    "**END**"
   ]
  }
 ],
 "metadata": {
  "kernelspec": {
   "display_name": ".venv",
   "language": "python",
   "name": "python3"
  },
  "language_info": {
   "codemirror_mode": {
    "name": "ipython",
    "version": 3
   },
   "file_extension": ".py",
   "mimetype": "text/x-python",
   "name": "python",
   "nbconvert_exporter": "python",
   "pygments_lexer": "ipython3",
   "version": "3.12.0"
  }
 },
 "nbformat": 4,
 "nbformat_minor": 2
}
