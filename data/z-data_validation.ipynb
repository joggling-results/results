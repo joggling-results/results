{
 "cells": [
  {
   "cell_type": "markdown",
   "metadata": {},
   "source": [
    "## Short Script for Data Validation\n",
    "\n",
    "- Checks the 'Finish Time' values are in the correct HH:MM:SS.ff time format"
   ]
  },
  {
   "cell_type": "code",
   "execution_count": 1,
   "metadata": {},
   "outputs": [],
   "source": [
    "import re\n",
    "import pandas as pd"
   ]
  },
  {
   "cell_type": "code",
   "execution_count": 2,
   "metadata": {},
   "outputs": [
    {
     "data": {
      "text/html": [
       "<div>\n",
       "<style scoped>\n",
       "    .dataframe tbody tr th:only-of-type {\n",
       "        vertical-align: middle;\n",
       "    }\n",
       "\n",
       "    .dataframe tbody tr th {\n",
       "        vertical-align: top;\n",
       "    }\n",
       "\n",
       "    .dataframe thead th {\n",
       "        text-align: right;\n",
       "    }\n",
       "</style>\n",
       "<table border=\"1\" class=\"dataframe\">\n",
       "  <thead>\n",
       "    <tr style=\"text-align: right;\">\n",
       "      <th></th>\n",
       "      <th>Date</th>\n",
       "      <th>Year</th>\n",
       "      <th>Distance</th>\n",
       "      <th>Event / Venue</th>\n",
       "      <th>Joggler</th>\n",
       "      <th>Gender</th>\n",
       "      <th>Nationality</th>\n",
       "      <th>Finish Time</th>\n",
       "      <th>Drops</th>\n",
       "      <th>Notes / Result Links</th>\n",
       "    </tr>\n",
       "  </thead>\n",
       "  <tbody>\n",
       "    <tr>\n",
       "      <th>0</th>\n",
       "      <td>04/08/2024</td>\n",
       "      <td>2024</td>\n",
       "      <td>3b Marathon</td>\n",
       "      <td>Bedford Autodrome Marathon</td>\n",
       "      <td>Tim Butler</td>\n",
       "      <td>M</td>\n",
       "      <td>GBR</td>\n",
       "      <td>3:53:37.00</td>\n",
       "      <td>?</td>\n",
       "      <td>Marathon #99: https://www.joggling.co.uk/Marat...</td>\n",
       "    </tr>\n",
       "    <tr>\n",
       "      <th>1</th>\n",
       "      <td>03/08/2024</td>\n",
       "      <td>2024</td>\n",
       "      <td>5b 5km</td>\n",
       "      <td>Edinburgh Parkrun</td>\n",
       "      <td>Scott Jenkins</td>\n",
       "      <td>M</td>\n",
       "      <td>GBR</td>\n",
       "      <td>0:41:27.00</td>\n",
       "      <td>50</td>\n",
       "      <td>https://www.parkrun.org.uk/edinburgh/results/682/</td>\n",
       "    </tr>\n",
       "    <tr>\n",
       "      <th>2</th>\n",
       "      <td>03/08/2024</td>\n",
       "      <td>2024</td>\n",
       "      <td>3b 5km</td>\n",
       "      <td>Parkrun Mylnowka Krolewska</td>\n",
       "      <td>Kacper Suchora</td>\n",
       "      <td>M</td>\n",
       "      <td>POL</td>\n",
       "      <td>0:22:24.00</td>\n",
       "      <td>2</td>\n",
       "      <td>https://www.parkrun.pl/mlynowkakrolewska/resul...</td>\n",
       "    </tr>\n",
       "    <tr>\n",
       "      <th>3</th>\n",
       "      <td>27/07/2024</td>\n",
       "      <td>2024</td>\n",
       "      <td>4b 5km</td>\n",
       "      <td>Holyrood Parkrun</td>\n",
       "      <td>Scott Jenkins</td>\n",
       "      <td>M</td>\n",
       "      <td>GBR</td>\n",
       "      <td>0:31:28.00</td>\n",
       "      <td>6</td>\n",
       "      <td>https://www.parkrun.org.uk/holyrood/results/97/</td>\n",
       "    </tr>\n",
       "    <tr>\n",
       "      <th>4</th>\n",
       "      <td>27/07/2024</td>\n",
       "      <td>2024</td>\n",
       "      <td>3b 5km</td>\n",
       "      <td>Ogrod Saski Parkrun</td>\n",
       "      <td>Kacper Suchora</td>\n",
       "      <td>M</td>\n",
       "      <td>POL</td>\n",
       "      <td>0:22:20.00</td>\n",
       "      <td>2</td>\n",
       "      <td>https://www.parkrun.pl/ogrodsaski/results/192/</td>\n",
       "    </tr>\n",
       "  </tbody>\n",
       "</table>\n",
       "</div>"
      ],
      "text/plain": [
       "         Date  Year     Distance               Event / Venue         Joggler  \\\n",
       "0  04/08/2024  2024  3b Marathon  Bedford Autodrome Marathon      Tim Butler   \n",
       "1  03/08/2024  2024       5b 5km           Edinburgh Parkrun   Scott Jenkins   \n",
       "2  03/08/2024  2024       3b 5km  Parkrun Mylnowka Krolewska  Kacper Suchora   \n",
       "3  27/07/2024  2024       4b 5km            Holyrood Parkrun   Scott Jenkins   \n",
       "4  27/07/2024  2024       3b 5km         Ogrod Saski Parkrun  Kacper Suchora   \n",
       "\n",
       "  Gender Nationality Finish Time Drops  \\\n",
       "0      M         GBR  3:53:37.00     ?   \n",
       "1      M         GBR  0:41:27.00    50   \n",
       "2      M         POL  0:22:24.00     2   \n",
       "3      M         GBR  0:31:28.00     6   \n",
       "4      M         POL  0:22:20.00     2   \n",
       "\n",
       "                                Notes / Result Links  \n",
       "0  Marathon #99: https://www.joggling.co.uk/Marat...  \n",
       "1  https://www.parkrun.org.uk/edinburgh/results/682/  \n",
       "2  https://www.parkrun.pl/mlynowkakrolewska/resul...  \n",
       "3    https://www.parkrun.org.uk/holyrood/results/97/  \n",
       "4     https://www.parkrun.pl/ogrodsaski/results/192/  "
      ]
     },
     "execution_count": 2,
     "metadata": {},
     "output_type": "execute_result"
    }
   ],
   "source": [
    "results = pd.read_csv('results.csv', encoding= 'ISO-8859-1',)\n",
    "results.head()"
   ]
  },
  {
   "cell_type": "code",
   "execution_count": 3,
   "metadata": {},
   "outputs": [],
   "source": [
    "def regex_checker(performance):\n",
    "    match = re.match(r'\\d{1,2}[:]\\d{1,2}[:]\\d{1,2}[.]\\d{1,2}',performance)\n",
    "    if match:\n",
    "        return 1\n",
    "    else:\n",
    "        return 0"
   ]
  },
  {
   "cell_type": "code",
   "execution_count": 4,
   "metadata": {},
   "outputs": [
    {
     "name": "stdout",
     "output_type": "stream",
     "text": [
      "All Finish Times are Regex compliant!\n"
     ]
    }
   ],
   "source": [
    "results['valid_regex'] = results['Finish Time'].apply(lambda x: regex_checker(x))\n",
    "\n",
    "\n",
    "to_fix = results[results['valid_regex']==0]\n",
    "\n",
    "if len(to_fix)==0:\n",
    "    print('All Finish Times are Regex compliant!')\n",
    "else:\n",
    "    display(to_fix)"
   ]
  },
  {
   "cell_type": "markdown",
   "metadata": {},
   "source": [
    "Now go and fix them at souce!"
   ]
  },
  {
   "cell_type": "markdown",
   "metadata": {},
   "source": [
    "**END**"
   ]
  }
 ],
 "metadata": {
  "kernelspec": {
   "display_name": "joggling-results-archive",
   "language": "python",
   "name": "python3"
  },
  "language_info": {
   "codemirror_mode": {
    "name": "ipython",
    "version": 3
   },
   "file_extension": ".py",
   "mimetype": "text/x-python",
   "name": "python",
   "nbconvert_exporter": "python",
   "pygments_lexer": "ipython3",
   "version": "3.13.2"
  }
 },
 "nbformat": 4,
 "nbformat_minor": 2
}
