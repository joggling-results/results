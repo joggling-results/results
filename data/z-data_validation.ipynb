{
 "cells": [
  {
   "cell_type": "markdown",
   "metadata": {},
   "source": [
    "## Short Script for Data Validation\n",
    "\n",
    "- Checks the 'Finish Time' values are in the correct HH:MM:SS.ff time format"
   ]
  },
  {
   "cell_type": "code",
   "execution_count": 34,
   "metadata": {},
   "outputs": [],
   "source": [
    "import re\n",
    "import pandas as pd"
   ]
  },
  {
   "cell_type": "code",
   "execution_count": 35,
   "metadata": {},
   "outputs": [
    {
     "data": {
      "text/html": [
       "<div>\n",
       "<style scoped>\n",
       "    .dataframe tbody tr th:only-of-type {\n",
       "        vertical-align: middle;\n",
       "    }\n",
       "\n",
       "    .dataframe tbody tr th {\n",
       "        vertical-align: top;\n",
       "    }\n",
       "\n",
       "    .dataframe thead th {\n",
       "        text-align: right;\n",
       "    }\n",
       "</style>\n",
       "<table border=\"1\" class=\"dataframe\">\n",
       "  <thead>\n",
       "    <tr style=\"text-align: right;\">\n",
       "      <th></th>\n",
       "      <th>Distance</th>\n",
       "      <th>Standard Distance?</th>\n",
       "      <th>Event / Venue</th>\n",
       "      <th>Joggler</th>\n",
       "      <th>Gender</th>\n",
       "      <th>Nationality</th>\n",
       "      <th>Finish Time</th>\n",
       "      <th>Drops</th>\n",
       "      <th>Notes / Result Links</th>\n",
       "    </tr>\n",
       "  </thead>\n",
       "  <tbody>\n",
       "    <tr>\n",
       "      <th>0</th>\n",
       "      <td>3b 10km</td>\n",
       "      <td>No</td>\n",
       "      <td>Ilkley 10km</td>\n",
       "      <td>Chris Edwin</td>\n",
       "      <td>M</td>\n",
       "      <td>GBR</td>\n",
       "      <td>0:38:06.00</td>\n",
       "      <td>0</td>\n",
       "      <td>https://www.strava.com/activities/11610045382</td>\n",
       "    </tr>\n",
       "    <tr>\n",
       "      <th>1</th>\n",
       "      <td>3b 2 Miles</td>\n",
       "      <td>No</td>\n",
       "      <td>Walleye Weekend 2 Mile Race</td>\n",
       "      <td>Samuel Dean</td>\n",
       "      <td>M</td>\n",
       "      <td>USA</td>\n",
       "      <td>0:11:04.20</td>\n",
       "      <td>0</td>\n",
       "      <td>https://www.strava.com/activities/11604611750</td>\n",
       "    </tr>\n",
       "    <tr>\n",
       "      <th>2</th>\n",
       "      <td>3b 5 Miles</td>\n",
       "      <td>No</td>\n",
       "      <td>Walleye Weekend 5 Mile Race</td>\n",
       "      <td>Samuel Dean</td>\n",
       "      <td>M</td>\n",
       "      <td>USA</td>\n",
       "      <td>0:29:45.90</td>\n",
       "      <td>1</td>\n",
       "      <td>https://www.strava.com/activities/11604610913</td>\n",
       "    </tr>\n",
       "    <tr>\n",
       "      <th>3</th>\n",
       "      <td>3b 10km</td>\n",
       "      <td>No</td>\n",
       "      <td>Chaleur 10km, Beresford, New Brunswick</td>\n",
       "      <td>Jean-Marc Doiron</td>\n",
       "      <td>M</td>\n",
       "      <td>CAN</td>\n",
       "      <td>0:37:45.00</td>\n",
       "      <td>?</td>\n",
       "      <td>https://results.raceroster.com/v2/en-US/result...</td>\n",
       "    </tr>\n",
       "    <tr>\n",
       "      <th>4</th>\n",
       "      <td>4b 5km</td>\n",
       "      <td>No</td>\n",
       "      <td>Worcester Pitchcroft Parkrun</td>\n",
       "      <td>Scott Jenkins</td>\n",
       "      <td>M</td>\n",
       "      <td>GBR</td>\n",
       "      <td>0:38:41.00</td>\n",
       "      <td>31</td>\n",
       "      <td>https://www.parkrun.org.uk/worcesterpitchcroft...</td>\n",
       "    </tr>\n",
       "  </tbody>\n",
       "</table>\n",
       "</div>"
      ],
      "text/plain": [
       "     Distance Standard Distance?                           Event / Venue  \\\n",
       "0     3b 10km                 No                             Ilkley 10km   \n",
       "1  3b 2 Miles                 No             Walleye Weekend 2 Mile Race   \n",
       "2  3b 5 Miles                 No             Walleye Weekend 5 Mile Race   \n",
       "3     3b 10km                 No  Chaleur 10km, Beresford, New Brunswick   \n",
       "4      4b 5km                 No            Worcester Pitchcroft Parkrun   \n",
       "\n",
       "            Joggler Gender Nationality Finish Time Drops  \\\n",
       "0       Chris Edwin      M         GBR  0:38:06.00     0   \n",
       "1       Samuel Dean      M         USA  0:11:04.20     0   \n",
       "2       Samuel Dean      M         USA  0:29:45.90     1   \n",
       "3  Jean-Marc Doiron      M         CAN  0:37:45.00     ?   \n",
       "4     Scott Jenkins      M         GBR  0:38:41.00    31   \n",
       "\n",
       "                                Notes / Result Links  \n",
       "0      https://www.strava.com/activities/11610045382  \n",
       "1      https://www.strava.com/activities/11604611750  \n",
       "2      https://www.strava.com/activities/11604610913  \n",
       "3  https://results.raceroster.com/v2/en-US/result...  \n",
       "4  https://www.parkrun.org.uk/worcesterpitchcroft...  "
      ]
     },
     "execution_count": 35,
     "metadata": {},
     "output_type": "execute_result"
    }
   ],
   "source": [
    "results = pd.read_csv('results.csv')\n",
    "results.head()"
   ]
  },
  {
   "cell_type": "code",
   "execution_count": 36,
   "metadata": {},
   "outputs": [],
   "source": [
    "def regex_checker(performance):\n",
    "    match = re.match(r'\\d{1,2}[:]\\d{1,2}[:]\\d{1,2}[.]\\d{1,2}',performance)\n",
    "    if match:\n",
    "        return 1\n",
    "    else:\n",
    "        return 0"
   ]
  },
  {
   "cell_type": "code",
   "execution_count": 38,
   "metadata": {},
   "outputs": [
    {
     "name": "stdout",
     "output_type": "stream",
     "text": [
      "All Finish Times are Regex compliant!\n"
     ]
    }
   ],
   "source": [
    "results['valid_regex'] = results['Finish Time'].apply(lambda x: regex_checker(x))\n",
    "\n",
    "\n",
    "to_fix = results[results['valid_regex']==0]\n",
    "\n",
    "if len(to_fix)==0:\n",
    "    print('All Finish Times are Regex compliant!')\n",
    "else:\n",
    "    display(to_fix)"
   ]
  },
  {
   "cell_type": "markdown",
   "metadata": {},
   "source": [
    "Now go and fix them at souce!"
   ]
  },
  {
   "cell_type": "markdown",
   "metadata": {},
   "source": [
    "**END**"
   ]
  }
 ],
 "metadata": {
  "kernelspec": {
   "display_name": ".venv",
   "language": "python",
   "name": "python3"
  },
  "language_info": {
   "codemirror_mode": {
    "name": "ipython",
    "version": 3
   },
   "file_extension": ".py",
   "mimetype": "text/x-python",
   "name": "python",
   "nbconvert_exporter": "python",
   "pygments_lexer": "ipython3",
   "version": "3.12.0"
  }
 },
 "nbformat": 4,
 "nbformat_minor": 2
}
